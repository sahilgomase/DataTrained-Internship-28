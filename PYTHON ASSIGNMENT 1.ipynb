{
 "cells": [
  {
   "cell_type": "markdown",
   "id": "e3cbb713",
   "metadata": {},
   "source": [
    "### 1)Which of the following operators is used to calculate remainder in a division?\n",
    "\n",
    "### ANS-%"
   ]
  },
  {
   "cell_type": "code",
   "execution_count": 5,
   "id": "36bc5dd0",
   "metadata": {},
   "outputs": [
    {
     "data": {
      "text/plain": [
       "0.6666666666666666"
      ]
     },
     "execution_count": 5,
     "metadata": {},
     "output_type": "execute_result"
    }
   ],
   "source": [
    "## 2)\n",
    "2/3"
   ]
  },
  {
   "cell_type": "code",
   "execution_count": 6,
   "id": "703613dd",
   "metadata": {},
   "outputs": [
    {
     "data": {
      "text/plain": [
       "24"
      ]
     },
     "execution_count": 6,
     "metadata": {},
     "output_type": "execute_result"
    }
   ],
   "source": [
    "## 3)_\n",
    "6<<2"
   ]
  },
  {
   "cell_type": "code",
   "execution_count": 7,
   "id": "8705eefd",
   "metadata": {},
   "outputs": [
    {
     "data": {
      "text/plain": [
       "2"
      ]
     },
     "execution_count": 7,
     "metadata": {},
     "output_type": "execute_result"
    }
   ],
   "source": [
    "## 4)\n",
    "6&2"
   ]
  },
  {
   "cell_type": "code",
   "execution_count": 8,
   "id": "160160e9",
   "metadata": {},
   "outputs": [
    {
     "data": {
      "text/plain": [
       "6"
      ]
     },
     "execution_count": 8,
     "metadata": {},
     "output_type": "execute_result"
    }
   ],
   "source": [
    "## 5)\n",
    "6|2"
   ]
  },
  {
   "cell_type": "markdown",
   "id": "3e68f9f8",
   "metadata": {},
   "source": [
    "### 6)What does the finally keyword denotes in python?\n",
    "    \n",
    "   #### ANS-the finally block will be executed no matter if the try block raises an error or not."
   ]
  },
  {
   "cell_type": "markdown",
   "id": "7c146259",
   "metadata": {},
   "source": [
    "### 7)What does raise keyword is used for in python?\n",
    "\n",
    "###  ANS-A) It is used to raise an exception."
   ]
  },
  {
   "cell_type": "markdown",
   "id": "77eecb8c",
   "metadata": {},
   "source": [
    "### 8)Which of the following is a common use case of yield keyword in python?\n",
    "\n",
    "###  ANS- C) in defining a generator"
   ]
  },
  {
   "cell_type": "markdown",
   "id": "9aa1694b",
   "metadata": {},
   "source": [
    "### 9)Which of the following are the valid variable names?\n",
    "### A) _abc  C) abc2 "
   ]
  },
  {
   "cell_type": "markdown",
   "id": "c373f1f3",
   "metadata": {},
   "source": [
    "### 10) Which of the following are the keywords in python?\n",
    "\n",
    "###  Ans-yield and raise."
   ]
  },
  {
   "cell_type": "markdown",
   "id": "6feff7c6",
   "metadata": {},
   "source": [
    "### 11.\tWrite a python program to find the factorial of a number."
   ]
  },
  {
   "cell_type": "code",
   "execution_count": 12,
   "id": "bb18aa42",
   "metadata": {},
   "outputs": [
    {
     "name": "stdout",
     "output_type": "stream",
     "text": [
      "Input a number to compute the factiorial : 7\n",
      "5040\n"
     ]
    }
   ],
   "source": [
    "## For factors\n",
    "def factorial(n):\n",
    "    if n == 0:\n",
    "        return 1\n",
    "    else:\n",
    "        return n * factorial(n-1)\n",
    "n=int(input(\"Input a number to compute the factiorial : \"))\n",
    "print(factorial(n))\n"
   ]
  },
  {
   "cell_type": "markdown",
   "id": "ec37d702",
   "metadata": {},
   "source": [
    "### 12) Write a python program to find whether a number is prime or composite."
   ]
  },
  {
   "cell_type": "code",
   "execution_count": 17,
   "id": "153e61a3",
   "metadata": {},
   "outputs": [
    {
     "name": "stdout",
     "output_type": "stream",
     "text": [
      "Enter any number : 15\n",
      "15 is NOT a prime number\n"
     ]
    }
   ],
   "source": [
    "num = int(input(\"Enter any number : \"))\n",
    "if num > 1:\n",
    "    for i in range(2, num):\n",
    "        if (num % i) == 0:\n",
    "            print(num, \"is NOT a prime number\")\n",
    "            break\n",
    "    else:\n",
    "        print(num, \"is a PRIME number\")\n",
    "elif num == 0 or 1:\n",
    "    print(num, \"is a neither prime NOR composite number\")\n",
    "else:\n",
    "    print(num, \"is NOT a prime number it is a COMPOSITE number\")"
   ]
  },
  {
   "cell_type": "markdown",
   "id": "3e791c9c",
   "metadata": {},
   "source": [
    "### 13)Write a python program to check whether a given string is palindrome or not."
   ]
  },
  {
   "cell_type": "code",
   "execution_count": 21,
   "id": "434be38e",
   "metadata": {},
   "outputs": [
    {
     "name": "stdout",
     "output_type": "stream",
     "text": [
      "Enter a number:145412\n",
      "Not a palindrome!\n"
     ]
    }
   ],
   "source": [
    "num=int(input(\"Enter a number:\"))\n",
    "temp=num\n",
    "rev=0\n",
    "while(num>0):\n",
    "    dig=num%10\n",
    "    rev=rev*10+dig\n",
    "    num=num//10\n",
    "if(temp==rev):\n",
    "    print(\"The number is palindrome!\")\n",
    "else:\n",
    "    print(\"Not a palindrome!\")"
   ]
  },
  {
   "cell_type": "code",
   "execution_count": 28,
   "id": "321c039d",
   "metadata": {},
   "outputs": [
    {
     "name": "stdout",
     "output_type": "stream",
     "text": [
      "Enter a string:123456787654321\n",
      "The string is a palindrome\n"
     ]
    }
   ],
   "source": [
    "## for both number and alphabet which are pallindrome.\n",
    "string=input((\"Enter a string:\"))\n",
    "if(string==string[::-1]):\n",
    "      print(\"The string is a palindrome\")\n",
    "else:\n",
    "      print(\"Not a palindrome\")\n",
    "        \n",
    "        \n",
    "        "
   ]
  },
  {
   "cell_type": "markdown",
   "id": "af05adaf",
   "metadata": {},
   "source": [
    "### 14)Write a Python program to get the third side of right-angled triangle from two given sides."
   ]
  },
  {
   "cell_type": "code",
   "execution_count": 34,
   "id": "58caf527",
   "metadata": {},
   "outputs": [
    {
     "name": "stdout",
     "output_type": "stream",
     "text": [
      "Hypotenuse = 10.0\n",
      "Adjacent = 8.0\n",
      "Opposite = 6.0\n",
      "answer!\n"
     ]
    }
   ],
   "source": [
    "def pythagoras(opposite_side,adjacent_side,hypotenuse):\n",
    "        if opposite_side == str(\"x\"):\n",
    "            return (\"Opposite = \" + str(((hypotenuse**2) - (adjacent_side**2))**0.5))\n",
    "        elif adjacent_side == str(\"x\"):\n",
    "            return (\"Adjacent = \" + str(((hypotenuse**2) - (opposite_side**2))**0.5))\n",
    "        elif hypotenuse == str(\"x\"):\n",
    "            return (\"Hypotenuse = \" + str(((opposite_side**2) + (adjacent_side**2))**0.5))\n",
    "        else:\n",
    "            return \"answer!\"\n",
    "    \n",
    "print(pythagoras(6,8,'x'))\n",
    "print(pythagoras(6,'x',10))\n",
    "print(pythagoras('x',8,10))\n",
    "print(pythagoras(6,8,10))"
   ]
  },
  {
   "cell_type": "code",
   "execution_count": 37,
   "id": "da11e177",
   "metadata": {},
   "outputs": [],
   "source": [
    "## I dont understand this program mam. I tried "
   ]
  },
  {
   "cell_type": "markdown",
   "id": "11cd5cd9",
   "metadata": {},
   "source": [
    "### 15) Write a python program to print the frequency of each of the characters present in a given string."
   ]
  },
  {
   "cell_type": "code",
   "execution_count": 41,
   "id": "8bd1dc5d",
   "metadata": {},
   "outputs": [
    {
     "name": "stdout",
     "output_type": "stream",
     "text": [
      "{'l': 1, 'o': 4, 'r': 3, 'd': 2, ' ': 7, 'f': 2, 't': 2, 'h': 2, 'e': 3, 'i': 1, 'n': 3, 'g': 2, 'a': 2, 'm': 1, 's': 2}\n"
     ]
    }
   ],
   "source": [
    "def char_frequency(str1):\n",
    "    dict = {}\n",
    "    for n in str1:\n",
    "        keys = dict.keys()\n",
    "        if n in keys:\n",
    "            dict[n] += 1\n",
    "        else:\n",
    "            dict[n] = 1\n",
    "    return dict\n",
    "print(char_frequency('lord of the ring and games of thrones'))\n"
   ]
  },
  {
   "cell_type": "code",
   "execution_count": null,
   "id": "11ca3724",
   "metadata": {},
   "outputs": [],
   "source": []
  }
 ],
 "metadata": {
  "kernelspec": {
   "display_name": "Python 3",
   "language": "python",
   "name": "python3"
  },
  "language_info": {
   "codemirror_mode": {
    "name": "ipython",
    "version": 3
   },
   "file_extension": ".py",
   "mimetype": "text/x-python",
   "name": "python",
   "nbconvert_exporter": "python",
   "pygments_lexer": "ipython3",
   "version": "3.8.8"
  }
 },
 "nbformat": 4,
 "nbformat_minor": 5
}
